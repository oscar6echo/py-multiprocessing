{
 "cells": [
  {
   "cell_type": "code",
   "execution_count": 1,
   "metadata": {},
   "outputs": [],
   "source": [
    "%load_ext autoreload\n",
    "%autoreload 2"
   ]
  },
  {
   "cell_type": "code",
   "execution_count": 2,
   "metadata": {},
   "outputs": [],
   "source": [
    "from my_package import MyClass, ParallelRun"
   ]
  },
  {
   "cell_type": "code",
   "execution_count": 3,
   "metadata": {},
   "outputs": [],
   "source": [
    "\n",
    "a = MyClass('A', 1, 6, 1)\n",
    "b = MyClass('B', 0, 2, 2)\n",
    "c = MyClass('C', 10, 12, 3)\n",
    "objs = [a, b, c]\n",
    "\n",
    "\n",
    "def worker(obj, queue):\n",
    "    obj.run(queue)\n",
    "    return {'class': obj.name, 'res': obj.res}\n"
   ]
  },
  {
   "cell_type": "code",
   "execution_count": 4,
   "metadata": {},
   "outputs": [],
   "source": [
    "p = ParallelRun(worker, objs)"
   ]
  },
  {
   "cell_type": "code",
   "execution_count": 5,
   "metadata": {},
   "outputs": [
    {
     "name": "stdout",
     "output_type": "stream",
     "text": [
      "A step=1 c=2 t=0.00 s\n",
      "B step=0 c=1 t=0.00 s\n",
      "C step=10 c=11 t=0.00 s\n",
      "A step=2 c=4 t=1.01 s\n",
      "A step=3 c=7 t=2.01 sB step=1 c=2 t=2.01 s\n",
      "\n",
      "C step=11 c=22 t=3.01 sA step=4 c=11 t=3.02 s\n",
      "\n",
      "B done in 4.01 s\n",
      "A step=5 c=16 t=4.02 s\n",
      "A done in 5.03 s\n",
      "C done in 6.02 s\n"
     ]
    }
   ],
   "source": [
    "p.run()"
   ]
  },
  {
   "cell_type": "code",
   "execution_count": 6,
   "metadata": {},
   "outputs": [
    {
     "data": {
      "text/plain": [
       "{'B': 2, 'A': 16, 'C': 22}"
      ]
     },
     "execution_count": 6,
     "metadata": {},
     "output_type": "execute_result"
    }
   ],
   "source": [
    "p.get_res()"
   ]
  },
  {
   "cell_type": "code",
   "execution_count": 7,
   "metadata": {},
   "outputs": [
    {
     "name": "stdout",
     "output_type": "stream",
     "text": [
      "A: toto\n",
      "B: toto\n",
      "C: toto\n"
     ]
    }
   ],
   "source": [
    "for obj in objs:\n",
    "    print(f'{obj.name}: {obj.res}')"
   ]
  },
  {
   "cell_type": "code",
   "execution_count": null,
   "metadata": {},
   "outputs": [],
   "source": []
  }
 ],
 "metadata": {
  "kernelspec": {
   "display_name": "work",
   "language": "python",
   "name": "work"
  },
  "language_info": {
   "codemirror_mode": {
    "name": "ipython",
    "version": 3
   },
   "file_extension": ".py",
   "mimetype": "text/x-python",
   "name": "python",
   "nbconvert_exporter": "python",
   "pygments_lexer": "ipython3",
   "version": "3.8.3"
  }
 },
 "nbformat": 4,
 "nbformat_minor": 4
}
